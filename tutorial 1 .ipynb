{
 "cells": [
  {
   "cell_type": "code",
   "execution_count": 3,
   "metadata": {},
   "outputs": [
    {
     "data": {
      "text/html": [
       "<div>\n",
       "<style scoped>\n",
       "    .dataframe tbody tr th:only-of-type {\n",
       "        vertical-align: middle;\n",
       "    }\n",
       "\n",
       "    .dataframe tbody tr th {\n",
       "        vertical-align: top;\n",
       "    }\n",
       "\n",
       "    .dataframe thead th {\n",
       "        text-align: right;\n",
       "    }\n",
       "</style>\n",
       "<table border=\"1\" class=\"dataframe\">\n",
       "  <thead>\n",
       "    <tr style=\"text-align: right;\">\n",
       "      <th></th>\n",
       "      <th>Unnamed: 0</th>\n",
       "      <th>TV</th>\n",
       "      <th>radio</th>\n",
       "      <th>newspaper</th>\n",
       "      <th>sales</th>\n",
       "    </tr>\n",
       "  </thead>\n",
       "  <tbody>\n",
       "    <tr>\n",
       "      <th>0</th>\n",
       "      <td>1</td>\n",
       "      <td>230.1</td>\n",
       "      <td>37.8</td>\n",
       "      <td>69.2</td>\n",
       "      <td>22.1</td>\n",
       "    </tr>\n",
       "    <tr>\n",
       "      <th>1</th>\n",
       "      <td>2</td>\n",
       "      <td>44.5</td>\n",
       "      <td>39.3</td>\n",
       "      <td>45.1</td>\n",
       "      <td>10.4</td>\n",
       "    </tr>\n",
       "    <tr>\n",
       "      <th>2</th>\n",
       "      <td>3</td>\n",
       "      <td>17.2</td>\n",
       "      <td>45.9</td>\n",
       "      <td>69.3</td>\n",
       "      <td>9.3</td>\n",
       "    </tr>\n",
       "    <tr>\n",
       "      <th>3</th>\n",
       "      <td>4</td>\n",
       "      <td>151.5</td>\n",
       "      <td>41.3</td>\n",
       "      <td>58.5</td>\n",
       "      <td>18.5</td>\n",
       "    </tr>\n",
       "    <tr>\n",
       "      <th>4</th>\n",
       "      <td>5</td>\n",
       "      <td>180.8</td>\n",
       "      <td>10.8</td>\n",
       "      <td>58.4</td>\n",
       "      <td>12.9</td>\n",
       "    </tr>\n",
       "  </tbody>\n",
       "</table>\n",
       "</div>"
      ],
      "text/plain": [
       "   Unnamed: 0     TV  radio  newspaper  sales\n",
       "0           1  230.1   37.8       69.2   22.1\n",
       "1           2   44.5   39.3       45.1   10.4\n",
       "2           3   17.2   45.9       69.3    9.3\n",
       "3           4  151.5   41.3       58.5   18.5\n",
       "4           5  180.8   10.8       58.4   12.9"
      ]
     },
     "execution_count": 3,
     "metadata": {},
     "output_type": "execute_result"
    }
   ],
   "source": [
    "# Importing necessary libraries for numerical operations, data manipulation, and visualization\n",
    "import numpy as np  \n",
    "import pandas as pd  \n",
    "import matplotlib.pyplot as plt  \n",
    "from sklearn.model_selection import train_test_split  \n",
    "\n",
    "# Loading the dataset into a pandas DataFrame\n",
    "df = pd.read_csv(\"Data/Advertising.csv\")\n",
    "\n",
    "# Display the first few rows of the dataset\n",
    "df.head()\n"
   ]
  },
  {
   "cell_type": "code",
   "execution_count": 4,
   "metadata": {},
   "outputs": [
    {
     "data": {
      "text/plain": [
       "(      TV  radio  newspaper\n",
       " 0  230.1   37.8       69.2\n",
       " 1   44.5   39.3       45.1\n",
       " 2   17.2   45.9       69.3\n",
       " 3  151.5   41.3       58.5\n",
       " 4  180.8   10.8       58.4,\n",
       " 0    22.1\n",
       " 1    10.4\n",
       " 2     9.3\n",
       " 3    18.5\n",
       " 4    12.9\n",
       " Name: sales, dtype: float64)"
      ]
     },
     "execution_count": 4,
     "metadata": {},
     "output_type": "execute_result"
    }
   ],
   "source": [
    "# Selecting independent variables (features)\n",
    "predictors = [\"TV\", \"radio\", \"newspaper\"]\n",
    "X = df[predictors]  \n",
    "\n",
    "# Defining the dependent variable (sales)\n",
    "y = df[\"sales\"]  \n",
    "\n",
    "# Display the first few rows of the feature set and target variable\n",
    "X.head(), y.head()\n"
   ]
  },
  {
   "cell_type": "code",
   "execution_count": 5,
   "metadata": {},
   "outputs": [
    {
     "data": {
      "text/plain": [
       "((150, 3), (50, 3), (150,), (50,))"
      ]
     },
     "execution_count": 5,
     "metadata": {},
     "output_type": "execute_result"
    }
   ],
   "source": [
    "# Splitting the dataset into training and testing sets (80% training, 20% testing)\n",
    "X_train, X_test, y_train, y_test = train_test_split(X, y, random_state=42)\n",
    "\n",
    "# Display the dimensions of training and testing sets\n",
    "X_train.shape, X_test.shape, y_train.shape, y_test.shape\n"
   ]
  },
  {
   "cell_type": "code",
   "execution_count": 6,
   "metadata": {},
   "outputs": [],
   "source": [
    "# Adding an intercept (bias) term to feature matrices\n",
    "X_train = np.column_stack((np.ones(X_train.shape[0]), X_train))\n",
    "X_test = np.column_stack((np.ones(X_test.shape[0]), X_test))\n",
    "\n",
    "# Converting target variable to NumPy arrays\n",
    "y_train = y_train.to_numpy()\n",
    "y_test = y_test.to_numpy()\n"
   ]
  },
  {
   "cell_type": "code",
   "execution_count": 7,
   "metadata": {},
   "outputs": [
    {
     "name": "stdout",
     "output_type": "stream",
     "text": [
      "Regression Coefficients: [2.77830346e+00 4.54335586e-02 1.91456536e-01 2.56809082e-03]\n"
     ]
    }
   ],
   "source": [
    "# Applying the Normal Equation to calculate the regression coefficients\n",
    "coefficients = np.linalg.inv(X_train.T @ X_train) @ X_train.T @ y_train\n",
    "\n",
    "# Display the computed coefficients\n",
    "print(\"Regression Coefficients:\", coefficients)\n"
   ]
  },
  {
   "cell_type": "code",
   "execution_count": 8,
   "metadata": {},
   "outputs": [
    {
     "name": "stdout",
     "output_type": "stream",
     "text": [
      "R² Score: 0.8966\n",
      "Residual Standard Error: 1.6863\n",
      "F-Statistic: 422.2003\n"
     ]
    }
   ],
   "source": [
    "# Making predictions on the training set\n",
    "y_pred_train = X_train @ coefficients\n",
    "\n",
    "# Computing Residual Sum of Squares (RSS)\n",
    "RSS = np.sum((y_train - y_pred_train) ** 2)\n",
    "\n",
    "# Computing Total Sum of Squares (TSS)\n",
    "TSS = np.sum((y_train - np.mean(y_train)) ** 2)\n",
    "\n",
    "# Calculating R-squared (R²) Score\n",
    "R_squared = 1 - (RSS / TSS)\n",
    "\n",
    "# Calculating Residual Standard Error (RSE)\n",
    "n_samples, n_features = X_train.shape  # Getting number of samples and features\n",
    "RSE = np.sqrt(RSS / (n_samples - n_features))\n",
    "\n",
    "# Computing F-statistic\n",
    "F_stat = ((TSS - RSS) / (n_features - 1)) / (RSS / (n_samples - n_features))\n",
    "\n",
    "# Displaying results\n",
    "print(f\"R² Score: {R_squared:.4f}\")\n",
    "print(f\"Residual Standard Error: {RSE:.4f}\")\n",
    "print(f\"F-Statistic: {F_stat:.4f}\")\n"
   ]
  },
  {
   "cell_type": "code",
   "execution_count": 9,
   "metadata": {},
   "outputs": [
    {
     "name": "stdout",
     "output_type": "stream",
     "text": [
      "TV Model Coefficients: [7.13178451 0.04689446]\n"
     ]
    }
   ],
   "source": [
    "# Using only 'TV' as the predictor\n",
    "X_tv = df[[\"TV\"]]  \n",
    "y_tv = df[\"sales\"]\n",
    "\n",
    "# Splitting into training and testing sets\n",
    "X_tv_train, X_tv_test, y_tv_train, y_tv_test = train_test_split(X_tv, y_tv, random_state=42)\n",
    "\n",
    "# Reshaping data for matrix operations\n",
    "X_tv_train = X_tv_train.to_numpy().reshape(-1, 1)\n",
    "X_tv_test = X_tv_test.to_numpy().reshape(-1, 1)\n",
    "\n",
    "# Adding bias term (intercept)\n",
    "X_train_tv = np.column_stack((np.ones(X_tv_train.shape[0]), X_tv_train))\n",
    "\n",
    "# Calculating regression coefficients using Normal Equation\n",
    "beta_tv = np.linalg.inv(X_train_tv.T @ X_train_tv) @ X_train_tv.T @ y_tv_train\n",
    "\n",
    "# Displaying results\n",
    "print(\"TV Model Coefficients:\", beta_tv)\n"
   ]
  },
  {
   "cell_type": "code",
   "execution_count": 10,
   "metadata": {},
   "outputs": [
    {
     "name": "stdout",
     "output_type": "stream",
     "text": [
      "Radio Model Coefficients: [9.51020268 0.2040429 ]\n"
     ]
    }
   ],
   "source": [
    "# Using 'radio' as the single predictor\n",
    "X_radio = df[[\"radio\"]]  \n",
    "y_radio = df[\"sales\"]\n",
    "\n",
    "# Splitting into training and testing sets\n",
    "X_radio_train, X_radio_test, y_radio_train, y_radio_test = train_test_split(X_radio, y_radio, random_state=42)\n",
    "\n",
    "# Reshaping for matrix operations\n",
    "X_radio_train = X_radio_train.to_numpy().reshape(-1, 1)\n",
    "X_radio_test = X_radio_test.to_numpy().reshape(-1, 1)\n",
    "\n",
    "# Adding bias term\n",
    "X_train_radio = np.column_stack((np.ones(X_radio_train.shape[0]), X_radio_train))\n",
    "\n",
    "# Computing regression coefficients\n",
    "beta_radio = np.linalg.inv(X_train_radio.T @ X_train_radio) @ X_train_radio.T @ y_radio_train\n",
    "\n",
    "# Displaying results\n",
    "print(\"Radio Model Coefficients:\", beta_radio)\n"
   ]
  },
  {
   "cell_type": "code",
   "execution_count": 11,
   "metadata": {},
   "outputs": [
    {
     "name": "stdout",
     "output_type": "stream",
     "text": [
      "Newspaper Model Coefficients: [12.53433474  0.05812371]\n"
     ]
    }
   ],
   "source": [
    "# Using 'newspaper' as the single predictor\n",
    "X_news = df[[\"newspaper\"]]  \n",
    "y_news = df[\"sales\"]\n",
    "\n",
    "# Splitting into training and testing sets\n",
    "X_news_train, X_news_test, y_news_train, y_news_test = train_test_split(X_news, y_news, random_state=42)\n",
    "\n",
    "# Reshaping for matrix operations\n",
    "X_news_train = X_news_train.to_numpy().reshape(-1, 1)\n",
    "X_news_test = X_news_test.to_numpy().reshape(-1, 1)\n",
    "\n",
    "# Adding bias term\n",
    "X_train_news = np.column_stack((np.ones(X_news_train.shape[0]), X_news_train))\n",
    "\n",
    "# Computing regression coefficients\n",
    "beta_news = np.linalg.inv(X_train_news.T @ X_train_news) @ X_train_news.T @ y_news_train\n",
    "\n",
    "# Displaying results\n",
    "print(\"Newspaper Model Coefficients:\", beta_news)\n"
   ]
  },
  {
   "cell_type": "code",
   "execution_count": null,
   "metadata": {},
   "outputs": [],
   "source": []
  },
  {
   "cell_type": "code",
   "execution_count": null,
   "metadata": {},
   "outputs": [],
   "source": []
  },
  {
   "cell_type": "code",
   "execution_count": null,
   "metadata": {},
   "outputs": [],
   "source": []
  },
  {
   "cell_type": "code",
   "execution_count": null,
   "metadata": {},
   "outputs": [],
   "source": []
  },
  {
   "cell_type": "code",
   "execution_count": null,
   "metadata": {},
   "outputs": [],
   "source": []
  },
  {
   "cell_type": "code",
   "execution_count": null,
   "metadata": {},
   "outputs": [],
   "source": []
  }
 ],
 "metadata": {
  "kernelspec": {
   "display_name": "Python 3",
   "language": "python",
   "name": "python3"
  },
  "language_info": {
   "codemirror_mode": {
    "name": "ipython",
    "version": 3
   },
   "file_extension": ".py",
   "mimetype": "text/x-python",
   "name": "python",
   "nbconvert_exporter": "python",
   "pygments_lexer": "ipython3",
   "version": "3.11.11"
  }
 },
 "nbformat": 4,
 "nbformat_minor": 2
}
