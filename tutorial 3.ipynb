{
 "cells": [
  {
   "cell_type": "code",
   "execution_count": 12,
   "metadata": {},
   "outputs": [],
   "source": [
    "import numpy as np  # For numerical operations\n",
    "import pandas as pd  # For handling data in DataFrame format\n",
    "import matplotlib.pyplot as plt  # For plotting graphs\n",
    "from sklearn.discriminant_analysis import LinearDiscriminantAnalysis as LDA  # LDA Library\n"
   ]
  },
  {
   "cell_type": "code",
   "execution_count": null,
   "metadata": {},
   "outputs": [],
   "source": []
  },
  {
   "cell_type": "code",
   "execution_count": 13,
   "metadata": {},
   "outputs": [],
   "source": [
    "# LDA Using Scikit-Learn"
   ]
  },
  {
   "cell_type": "code",
   "execution_count": 14,
   "metadata": {},
   "outputs": [
    {
     "data": {
      "text/html": [
       "<div>\n",
       "<style scoped>\n",
       "    .dataframe tbody tr th:only-of-type {\n",
       "        vertical-align: middle;\n",
       "    }\n",
       "\n",
       "    .dataframe tbody tr th {\n",
       "        vertical-align: top;\n",
       "    }\n",
       "\n",
       "    .dataframe thead th {\n",
       "        text-align: right;\n",
       "    }\n",
       "</style>\n",
       "<table border=\"1\" class=\"dataframe\">\n",
       "  <thead>\n",
       "    <tr style=\"text-align: right;\">\n",
       "      <th></th>\n",
       "      <th>Feature 1</th>\n",
       "      <th>Feature 2</th>\n",
       "      <th>Class</th>\n",
       "    </tr>\n",
       "  </thead>\n",
       "  <tbody>\n",
       "    <tr>\n",
       "      <th>0</th>\n",
       "      <td>1.638965</td>\n",
       "      <td>2.500701</td>\n",
       "      <td>0</td>\n",
       "    </tr>\n",
       "    <tr>\n",
       "      <th>1</th>\n",
       "      <td>0.677570</td>\n",
       "      <td>3.200600</td>\n",
       "      <td>0</td>\n",
       "    </tr>\n",
       "    <tr>\n",
       "      <th>2</th>\n",
       "      <td>2.319851</td>\n",
       "      <td>3.085714</td>\n",
       "      <td>0</td>\n",
       "    </tr>\n",
       "    <tr>\n",
       "      <th>3</th>\n",
       "      <td>0.248644</td>\n",
       "      <td>2.016079</td>\n",
       "      <td>0</td>\n",
       "    </tr>\n",
       "    <tr>\n",
       "      <th>4</th>\n",
       "      <td>2.135297</td>\n",
       "      <td>3.677857</td>\n",
       "      <td>0</td>\n",
       "    </tr>\n",
       "  </tbody>\n",
       "</table>\n",
       "</div>"
      ],
      "text/plain": [
       "   Feature 1  Feature 2  Class\n",
       "0   1.638965   2.500701      0\n",
       "1   0.677570   3.200600      0\n",
       "2   2.319851   3.085714      0\n",
       "3   0.248644   2.016079      0\n",
       "4   2.135297   3.677857      0"
      ]
     },
     "execution_count": 14,
     "metadata": {},
     "output_type": "execute_result"
    }
   ],
   "source": [
    "# Creating a small dataset (2 features, 2 classes)\n",
    "np.random.seed(42)  # For reproducibility\n",
    "\n",
    "# Class 0: Mean (2, 3), Class 1: Mean (7, 8)\n",
    "class_0 = np.random.multivariate_normal(mean=[2, 3], cov=[[1, 0.5], [0.5, 1]], size=10)\n",
    "class_1 = np.random.multivariate_normal(mean=[7, 8], cov=[[1, 0.5], [0.5, 1]], size=10)\n",
    "\n",
    "# Stacking the data\n",
    "X = np.vstack((class_0, class_1))  # Feature matrix\n",
    "y = np.array([0] * 10 + [1] * 10)  # Labels (0 and 1)\n",
    "\n",
    "# Converting to DataFrame for better visualization\n",
    "df = pd.DataFrame(X, columns=['Feature 1', 'Feature 2'])\n",
    "df['Class'] = y\n",
    "df.head()\n"
   ]
  },
  {
   "cell_type": "code",
   "execution_count": 15,
   "metadata": {},
   "outputs": [
    {
     "data": {
      "image/png": "[encoded data removed]",
      "text/plain": [
       "<Figure size 800x600 with 1 Axes>"
      ]
     },
     "metadata": {},
     "output_type": "display_data"
    }
   ],
   "source": [
    "# Scatter plot of the dataset\n",
    "plt.figure(figsize=(8, 6))\n",
    "colors = ['red', 'blue']\n",
    "\n",
    "for label, color in zip([0, 1], colors):\n",
    "    plt.scatter(df[df['Class'] == label]['Feature 1'],\n",
    "                df[df['Class'] == label]['Feature 2'],\n",
    "                c=color, label=f'Class {label}', alpha=0.7)\n",
    "\n",
    "plt.title('Scatter Plot of the Dataset', fontsize=14)\n",
    "plt.xlabel('Feature 1', fontsize=12)\n",
    "plt.ylabel('Feature 2', fontsize=12)\n",
    "plt.legend()\n",
    "plt.grid(True)\n",
    "plt.show()\n"
   ]
  },
  {
   "cell_type": "code",
   "execution_count": 16,
   "metadata": {},
   "outputs": [
    {
     "name": "stdout",
     "output_type": "stream",
     "text": [
      "Transformed Data (LDA Projection):\n",
      "[[-3.92451389]\n",
      " [-4.21147458]\n",
      " [-3.11357402]\n",
      " [-5.18118088]\n",
      " [-2.91123564]]\n"
     ]
    }
   ],
   "source": [
    "# Creating and fitting LDA model\n",
    "lda = LDA(n_components=1)  # Reduce to 1D\n",
    "X_lda = lda.fit_transform(X, y)\n",
    "\n",
    "# Display transformed dataset\n",
    "print(\"Transformed Data (LDA Projection):\")\n",
    "print(X_lda[:5])  # Show first 5 transformed samples\n"
   ]
  },
  {
   "cell_type": "code",
   "execution_count": null,
   "metadata": {},
   "outputs": [],
   "source": []
  },
  {
   "cell_type": "code",
   "execution_count": 17,
   "metadata": {},
   "outputs": [],
   "source": [
    "# Computing LDA Manually"
   ]
  },
  {
   "cell_type": "code",
   "execution_count": 18,
   "metadata": {},
   "outputs": [
    {
     "name": "stdout",
     "output_type": "stream",
     "text": [
      "Mean of Class 0: [2.23891226 3.08103921]\n",
      "Mean of Class 1: [7.32727776 7.96280947]\n"
     ]
    }
   ],
   "source": [
    "# Compute mean vectors for each class\n",
    "mean_0 = np.mean(class_0, axis=0)\n",
    "mean_1 = np.mean(class_1, axis=0)\n",
    "\n",
    "print(\"Mean of Class 0:\", mean_0)\n",
    "print(\"Mean of Class 1:\", mean_1)\n"
   ]
  },
  {
   "cell_type": "code",
   "execution_count": 19,
   "metadata": {},
   "outputs": [
    {
     "name": "stdout",
     "output_type": "stream",
     "text": [
      "Within-Class Scatter Matrix (S_W):\n",
      "[[15.52915522  6.11405239]\n",
      " [ 6.11405239 16.92391747]]\n"
     ]
    }
   ],
   "source": [
    "# Compute within-class scatter matrix Sw\n",
    "S_W = np.zeros((2, 2))\n",
    "\n",
    "# Class 0 contribution\n",
    "for x in class_0:\n",
    "    diff = (x - mean_0).reshape(2, 1)\n",
    "    S_W += diff @ diff.T\n",
    "\n",
    "# Class 1 contribution\n",
    "for x in class_1:\n",
    "    diff = (x - mean_1).reshape(2, 1)\n",
    "    S_W += diff @ diff.T\n",
    "\n",
    "print(\"Within-Class Scatter Matrix (S_W):\")\n",
    "print(S_W)\n"
   ]
  },
  {
   "cell_type": "code",
   "execution_count": 20,
   "metadata": {},
   "outputs": [
    {
     "name": "stdout",
     "output_type": "stream",
     "text": [
      "Between-Class Scatter Matrix (S_B):\n",
      "[[258.91463422 248.40231338]\n",
      " [248.40231338 238.31680847]]\n"
     ]
    }
   ],
   "source": [
    "# Compute overall mean\n",
    "mean_overall = np.mean(X, axis=0)\n",
    "\n",
    "# Compute between-class scatter matrix Sb\n",
    "S_B = np.zeros((2, 2))\n",
    "diff = (mean_1 - mean_0).reshape(2, 1)\n",
    "S_B = len(class_0) * (diff @ diff.T)\n",
    "\n",
    "print(\"Between-Class Scatter Matrix (S_B):\")\n",
    "print(S_B)\n"
   ]
  },
  {
   "cell_type": "code",
   "execution_count": 21,
   "metadata": {},
   "outputs": [
    {
     "name": "stdout",
     "output_type": "stream",
     "text": [
      "Eigenvalues: [2.23801758e+01 5.32907052e-15]\n",
      "Eigenvectors:\n",
      "[[ 0.78300187 -0.69230592]\n",
      " [ 0.62201935  0.72160413]]\n"
     ]
    }
   ],
   "source": [
    "# Compute the eigenvectors and eigenvalues\n",
    "eig_vals, eig_vecs = np.linalg.eig(np.linalg.inv(S_W) @ S_B)\n",
    "\n",
    "print(\"Eigenvalues:\", eig_vals)\n",
    "print(\"Eigenvectors:\")\n",
    "print(eig_vecs)\n"
   ]
  },
  {
   "cell_type": "code",
   "execution_count": 22,
   "metadata": {},
   "outputs": [
    {
     "name": "stdout",
     "output_type": "stream",
     "text": [
      "Chosen LDA Direction (Eigenvector corresponding to largest Eigenvalue):\n",
      "[0.78300187 0.62201935]\n"
     ]
    }
   ],
   "source": [
    "# Select the eigenvector corresponding to the largest eigenvalue\n",
    "lda_direction = eig_vecs[:, np.argmax(eig_vals)]\n",
    "\n",
    "print(\"Chosen LDA Direction (Eigenvector corresponding to largest Eigenvalue):\")\n",
    "print(lda_direction)\n"
   ]
  },
  {
   "cell_type": "code",
   "execution_count": 23,
   "metadata": {},
   "outputs": [
    {
     "name": "stdout",
     "output_type": "stream",
     "text": [
      "Manually Transformed Data (LDA Projection):\n",
      "[2.83879698 2.52137409 3.73582186 1.448729   3.95963939]\n"
     ]
    }
   ],
   "source": [
    "# Project the data onto the LDA vector\n",
    "X_manual_lda = X @ lda_direction\n",
    "\n",
    "# Display transformed dataset (manual method)\n",
    "print(\"Manually Transformed Data (LDA Projection):\")\n",
    "print(X_manual_lda[:5])  # Show first 5 transformed samples\n"
   ]
  },
  {
   "cell_type": "code",
   "execution_count": 24,
   "metadata": {},
   "outputs": [
    {
     "data": {
      "image/png": "[encoded data removed]",
      "text/plain": [
       "<Figure size 800x600 with 1 Axes>"
      ]
     },
     "metadata": {},
     "output_type": "display_data"
    }
   ],
   "source": [
    "plt.figure(figsize=(8, 6))\n",
    "\n",
    "# Scatter plot of projected points\n",
    "plt.scatter(X_manual_lda[:10], np.zeros(10), c='red', label=\"Class 0\", alpha=0.7)\n",
    "plt.scatter(X_manual_lda[10:], np.zeros(10), c='blue', label=\"Class 1\", alpha=0.7)\n",
    "\n",
    "plt.title('1D Projection After LDA', fontsize=14)\n",
    "plt.xlabel('LDA Component', fontsize=12)\n",
    "plt.yticks([])  # Remove Y-axis as it's 1D projection\n",
    "plt.legend()\n",
    "plt.grid(True)\n",
    "plt.show()\n"
   ]
  },
  {
   "cell_type": "code",
   "execution_count": null,
   "metadata": {},
   "outputs": [],
   "source": []
  }
 ],
 "metadata": {
  "kernelspec": {
   "display_name": "Python 3",
   "language": "python",
   "name": "python3"
  },
  "language_info": {
   "codemirror_mode": {
    "name": "ipython",
    "version": 3
   },
   "file_extension": ".py",
   "mimetype": "text/x-python",
   "name": "python",
   "nbconvert_exporter": "python",
   "pygments_lexer": "ipython3",
   "version": "3.11.11"
  }
 },
 "nbformat": 4,
 "nbformat_minor": 2
}
